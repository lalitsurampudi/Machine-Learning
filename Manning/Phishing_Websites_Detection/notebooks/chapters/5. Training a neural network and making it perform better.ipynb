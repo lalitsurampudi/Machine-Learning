{
 "cells": [
  {
   "cell_type": "markdown",
   "metadata": {},
   "source": [
    "In this final solution, we will be incorporating neural networks to see if we can boost the modeling performance. As the previous solution, we will first start by importing the necessary modules and will then load the dataset. "
   ]
  },
  {
   "cell_type": "code",
   "execution_count": 1,
   "metadata": {},
   "outputs": [],
   "source": [
    "# Filter the uneccesary warnings\n",
    "import warnings\n",
    "warnings.filterwarnings(\"ignore\")"
   ]
  },
  {
   "cell_type": "code",
   "execution_count": 2,
   "metadata": {},
   "outputs": [],
   "source": [
    "# Import numpy\n",
    "import numpy as np\n",
    "\n",
    "# Fix the random seed\n",
    "np.random.seed(7)"
   ]
  },
  {
   "cell_type": "code",
   "execution_count": 3,
   "metadata": {},
   "outputs": [],
   "source": [
    "# Load the numpy arrays which will be our datasets from now\n",
    "X_train, y_train = np.load(\"X_train.npy\", allow_pickle=True), np.load(\"y_train.npy\", allow_pickle=True)\n",
    "X_test, y_test = np.load(\"X_test.npy\", allow_pickle=True), np.load(\"y_test.npy\", allow_pickle=True)"
   ]
  },
  {
   "cell_type": "code",
   "execution_count": 4,
   "metadata": {},
   "outputs": [],
   "source": [
    "# Other imports\n",
    "from tensorflow.keras.models import Sequential\n",
    "from tensorflow.keras.layers import Dense\n",
    "from tensorflow.keras.optimizers import *\n",
    "from wandb.keras import WandbCallback\n",
    "import wandb"
   ]
  },
  {
   "cell_type": "code",
   "execution_count": 5,
   "metadata": {},
   "outputs": [],
   "source": [
    "# Fix TensorFlow's random see for better reproducibility\n",
    "import tensorflow as tf\n",
    "tf.random.set_seed(666)"
   ]
  },
  {
   "cell_type": "markdown",
   "metadata": {},
   "source": [
    "I find it convenient to wrap my model definition inside a function and return a compiled version of the model from the function. "
   ]
  },
  {
   "cell_type": "code",
   "execution_count": 6,
   "metadata": {},
   "outputs": [],
   "source": [
    "# Model building using the Sequential API\n",
    "def get_training_model(data):\n",
    "    model = Sequential()\n",
    "\n",
    "    model.add(Dense(40, activation=\"relu\",\n",
    "              kernel_initializer=\"uniform\",input_dim=data.shape[1]))\n",
    "    model.add(Dense(30, activation=\"relu\",\n",
    "              kernel_initializer=\"uniform\"))\n",
    "    model.add(Dense(1, activation=\"sigmoid\"))\n",
    "\n",
    "    model.compile(loss=\"binary_crossentropy\", optimizer=Adam(), metrics=[\"accuracy\"])\n",
    "    return model"
   ]
  },
  {
   "cell_type": "markdown",
   "metadata": {},
   "source": [
    "When using the `ReLU` activation function it's good to use the `He_Uniform` scheme to initialize the weights of your neural network and that can be set using the `kernel_initializer` argument. "
   ]
  },
  {
   "cell_type": "code",
   "execution_count": 7,
   "metadata": {},
   "outputs": [
    {
     "name": "stdout",
     "output_type": "stream",
     "text": [
      "Model: \"sequential\"\n",
      "_________________________________________________________________\n",
      "Layer (type)                 Output Shape              Param #   \n",
      "=================================================================\n",
      "dense (Dense)                (None, 40)                1240      \n",
      "_________________________________________________________________\n",
      "dense_1 (Dense)              (None, 30)                1230      \n",
      "_________________________________________________________________\n",
      "dense_2 (Dense)              (None, 1)                 31        \n",
      "=================================================================\n",
      "Total params: 2,501\n",
      "Trainable params: 2,501\n",
      "Non-trainable params: 0\n",
      "_________________________________________________________________\n"
     ]
    }
   ],
   "source": [
    "# Instantiate the model and print its summary\n",
    "model = get_training_model(X_train)\n",
    "model.summary()"
   ]
  },
  {
   "cell_type": "markdown",
   "metadata": {},
   "source": [
    "Early Stopping is a good way to prevent overfitting and in many cases you won't need to train the model for all the epochs. If you see that you model's performance is not as expected the training will get stopped after fixed interval (which will be set by you) and the best model within those many epochs will be returned. Let's define an `EarlyStopping` callback. "
   ]
  },
  {
   "cell_type": "code",
   "execution_count": 8,
   "metadata": {},
   "outputs": [],
   "source": [
    "from tensorflow.keras.callbacks import EarlyStopping"
   ]
  },
  {
   "cell_type": "code",
   "execution_count": 9,
   "metadata": {},
   "outputs": [],
   "source": [
    "es_cb = EarlyStopping(monitor=\"loss\", \n",
    "    patience=5, # number of epochs to consider\n",
    "    restore_best_weights=True, # restore the best weights when loss stops enhancing\n",
    "    verbose=1)"
   ]
  },
  {
   "cell_type": "markdown",
   "metadata": {},
   "source": [
    "Let's start training our shallow network. "
   ]
  },
  {
   "cell_type": "code",
   "execution_count": 10,
   "metadata": {},
   "outputs": [],
   "source": [
    "from sklearn.metrics import accuracy_score, precision_recall_fscore_support, classification_report\n",
    "import time "
   ]
  },
  {
   "cell_type": "code",
   "execution_count": 11,
   "metadata": {},
   "outputs": [],
   "source": [
    "def train_network(model, name):\n",
    "    # Initialize Weights and Biases\n",
    "    wandb.init(project=\"phishing-websites-detection\", name=name)\n",
    "    \n",
    "    start = time.time()\n",
    "    history = model.fit(X_train, y_train, batch_size=64, epochs=128, verbose=1, \\\n",
    "        callbacks=[es_cb, WandbCallback()])\n",
    "    end = time.time()-start\n",
    "    prediction = model.predict_classes(X_test)\n",
    "    wandb.log({\"accuracy\":accuracy_score(y_test, prediction)*100.0,\\\n",
    "               \"precision\": precision_recall_fscore_support(y_test, prediction, average=\"macro\")[0],\n",
    "               \"recall\": precision_recall_fscore_support(y_test, prediction, average=\"macro\")[1],\n",
    "               \"training_time\":end})\n",
    "    print(\"Accuracy score of the Logistic Regression classifier with default hyperparameter values {0:.2f}%\"\\\n",
    "                  .format(accuracy_score(y_test, prediction)*100.))\n",
    "    print(\"\\n\")\n",
    "    print(\"----Classification report of the Logistic Regression classifier with default hyperparameter value----\")\n",
    "    print(\"\\n\")\n",
    "    print(classification_report(y_test, prediction, target_names=[\"Phishing Websites\", \"Normal Websites\"]))"
   ]
  },
  {
   "cell_type": "markdown",
   "metadata": {},
   "source": [
    "I would encourage you to specify other things like the data, number of epochs, batch size as arguments to the function to have more flexibility and control. "
   ]
  },
  {
   "cell_type": "code",
   "execution_count": 12,
   "metadata": {},
   "outputs": [
    {
     "data": {
      "text/html": [
       "\n",
       "                Logging results to <a href=\"https://wandb.com\" target=\"_blank\">Weights & Biases</a> <a href=\"https://docs.wandb.com/integrations/jupyter.html\" target=\"_blank\">(Documentation)</a>.<br/>\n",
       "                Project page: <a href=\"https://app.wandb.ai/datagodzilla/phishing-websites-detection\" target=\"_blank\">https://app.wandb.ai/datagodzilla/phishing-websites-detection</a><br/>\n",
       "                Run page: <a href=\"https://app.wandb.ai/datagodzilla/phishing-websites-detection/runs/q0n9phog\" target=\"_blank\">https://app.wandb.ai/datagodzilla/phishing-websites-detection/runs/q0n9phog</a><br/>\n",
       "            "
      ],
      "text/plain": [
       "<IPython.core.display.HTML object>"
      ]
     },
     "metadata": {},
     "output_type": "display_data"
    },
    {
     "name": "stderr",
     "output_type": "stream",
     "text": [
      "wandb: Wandb version 0.8.28 is available!  To upgrade, please run:\n",
      "wandb:  $ pip install wandb --upgrade\n"
     ]
    },
    {
     "name": "stdout",
     "output_type": "stream",
     "text": [
      "Train on 8844 samples\n",
      "Epoch 1/128\n",
      "8844/8844 [==============================] - 1s 109us/sample - loss: 0.3573 - accuracy: 0.8673\n",
      "Epoch 2/128\n",
      "8844/8844 [==============================] - 0s 28us/sample - loss: 0.1969 - accuracy: 0.9237\n",
      "Epoch 3/128\n",
      "8844/8844 [==============================] - 0s 26us/sample - loss: 0.1883 - accuracy: 0.9249\n",
      "Epoch 4/128\n",
      "8844/8844 [==============================] - 0s 22us/sample - loss: 0.1785 - accuracy: 0.9292\n",
      "Epoch 5/128\n",
      "8844/8844 [==============================] - 0s 27us/sample - loss: 0.1752 - accuracy: 0.9294\n",
      "Epoch 6/128\n",
      "8844/8844 [==============================] - 0s 26us/sample - loss: 0.1683 - accuracy: 0.9341\n",
      "Epoch 7/128\n",
      "8844/8844 [==============================] - 0s 26us/sample - loss: 0.1607 - accuracy: 0.9358\n",
      "Epoch 8/128\n",
      "8844/8844 [==============================] - 0s 23us/sample - loss: 0.1546 - accuracy: 0.9383\n",
      "Epoch 9/128\n",
      "8844/8844 [==============================] - 0s 25us/sample - loss: 0.1503 - accuracy: 0.9391\n",
      "Epoch 10/128\n",
      "8844/8844 [==============================] - 0s 26us/sample - loss: 0.1444 - accuracy: 0.9413\n",
      "Epoch 11/128\n",
      "8844/8844 [==============================] - 0s 24us/sample - loss: 0.1404 - accuracy: 0.9428\n",
      "Epoch 12/128\n",
      "8844/8844 [==============================] - 0s 27us/sample - loss: 0.1354 - accuracy: 0.9457\n",
      "Epoch 13/128\n",
      "8844/8844 [==============================] - 0s 24us/sample - loss: 0.1304 - accuracy: 0.9454\n",
      "Epoch 14/128\n",
      "8844/8844 [==============================] - 0s 24us/sample - loss: 0.1290 - accuracy: 0.9456\n",
      "Epoch 15/128\n",
      "8844/8844 [==============================] - 0s 24us/sample - loss: 0.1265 - accuracy: 0.9470\n",
      "Epoch 16/128\n",
      "8844/8844 [==============================] - 0s 25us/sample - loss: 0.1210 - accuracy: 0.9483\n",
      "Epoch 17/128\n",
      "8844/8844 [==============================] - 0s 28us/sample - loss: 0.1202 - accuracy: 0.9487\n",
      "Epoch 18/128\n",
      "8844/8844 [==============================] - 0s 26us/sample - loss: 0.1193 - accuracy: 0.9484\n",
      "Epoch 19/128\n",
      "8844/8844 [==============================] - 0s 25us/sample - loss: 0.1154 - accuracy: 0.9515\n",
      "Epoch 20/128\n",
      "8844/8844 [==============================] - 0s 26us/sample - loss: 0.1142 - accuracy: 0.9507\n",
      "Epoch 21/128\n",
      "8844/8844 [==============================] - 0s 28us/sample - loss: 0.1107 - accuracy: 0.9516\n",
      "Epoch 22/128\n",
      "8844/8844 [==============================] - 0s 26us/sample - loss: 0.1111 - accuracy: 0.9540\n",
      "Epoch 23/128\n",
      "8844/8844 [==============================] - 0s 31us/sample - loss: 0.1083 - accuracy: 0.9542\n",
      "Epoch 24/128\n",
      "8844/8844 [==============================] - 0s 30us/sample - loss: 0.1056 - accuracy: 0.9547\n",
      "Epoch 25/128\n",
      "8844/8844 [==============================] - 0s 25us/sample - loss: 0.1048 - accuracy: 0.9541\n",
      "Epoch 26/128\n",
      "8844/8844 [==============================] - 0s 23us/sample - loss: 0.1044 - accuracy: 0.9548\n",
      "Epoch 27/128\n",
      "8844/8844 [==============================] - 0s 24us/sample - loss: 0.1025 - accuracy: 0.9545\n",
      "Epoch 28/128\n",
      "8844/8844 [==============================] - 0s 23us/sample - loss: 0.1018 - accuracy: 0.9570\n",
      "Epoch 29/128\n",
      "8844/8844 [==============================] - 0s 28us/sample - loss: 0.0999 - accuracy: 0.9578\n",
      "Epoch 30/128\n",
      "8844/8844 [==============================] - 0s 25us/sample - loss: 0.1017 - accuracy: 0.9585\n",
      "Epoch 31/128\n",
      "8844/8844 [==============================] - 0s 23us/sample - loss: 0.0968 - accuracy: 0.9591\n",
      "Epoch 32/128\n",
      "8844/8844 [==============================] - 0s 27us/sample - loss: 0.0969 - accuracy: 0.9594\n",
      "Epoch 33/128\n",
      "8844/8844 [==============================] - 0s 26us/sample - loss: 0.0933 - accuracy: 0.9616\n",
      "Epoch 34/128\n",
      "8844/8844 [==============================] - 0s 29us/sample - loss: 0.0947 - accuracy: 0.9591\n",
      "Epoch 35/128\n",
      "8844/8844 [==============================] - 0s 26us/sample - loss: 0.0929 - accuracy: 0.9599\n",
      "Epoch 36/128\n",
      "8844/8844 [==============================] - 0s 24us/sample - loss: 0.0942 - accuracy: 0.9609\n",
      "Epoch 37/128\n",
      "8844/8844 [==============================] - 0s 23us/sample - loss: 0.0926 - accuracy: 0.9622\n",
      "Epoch 38/128\n",
      "8844/8844 [==============================] - 0s 25us/sample - loss: 0.0901 - accuracy: 0.9625\n",
      "Epoch 39/128\n",
      "8844/8844 [==============================] - 0s 27us/sample - loss: 0.0910 - accuracy: 0.9607\n",
      "Epoch 40/128\n",
      "8844/8844 [==============================] - 0s 26us/sample - loss: 0.0897 - accuracy: 0.9616\n",
      "Epoch 41/128\n",
      "8844/8844 [==============================] - 0s 24us/sample - loss: 0.0887 - accuracy: 0.9617\n",
      "Epoch 42/128\n",
      "8844/8844 [==============================] - 0s 23us/sample - loss: 0.0836 - accuracy: 0.9665\n",
      "Epoch 43/128\n",
      "8844/8844 [==============================] - 0s 26us/sample - loss: 0.0870 - accuracy: 0.9651\n",
      "Epoch 44/128\n",
      "8844/8844 [==============================] - 0s 30us/sample - loss: 0.0860 - accuracy: 0.9633s - loss: 0.0860 - accuracy: 0.\n",
      "Epoch 45/128\n",
      "8844/8844 [==============================] - 0s 34us/sample - loss: 0.0836 - accuracy: 0.9663\n",
      "Epoch 46/128\n",
      "8844/8844 [==============================] - 0s 33us/sample - loss: 0.0822 - accuracy: 0.9660\n",
      "Epoch 47/128\n",
      "8844/8844 [==============================] - 0s 38us/sample - loss: 0.0816 - accuracy: 0.9659\n",
      "Epoch 48/128\n",
      "8844/8844 [==============================] - 0s 29us/sample - loss: 0.0814 - accuracy: 0.9660\n",
      "Epoch 49/128\n",
      "8844/8844 [==============================] - 0s 28us/sample - loss: 0.0824 - accuracy: 0.9654\n",
      "Epoch 50/128\n",
      "8844/8844 [==============================] - 0s 26us/sample - loss: 0.0786 - accuracy: 0.9675\n",
      "Epoch 51/128\n",
      "8844/8844 [==============================] - 0s 24us/sample - loss: 0.0774 - accuracy: 0.9675\n",
      "Epoch 52/128\n",
      "8844/8844 [==============================] - 0s 27us/sample - loss: 0.0801 - accuracy: 0.9662\n",
      "Epoch 53/128\n",
      "8844/8844 [==============================] - 0s 30us/sample - loss: 0.0783 - accuracy: 0.9661\n",
      "Epoch 54/128\n",
      "8844/8844 [==============================] - 0s 25us/sample - loss: 0.0791 - accuracy: 0.9669\n",
      "Epoch 55/128\n",
      "8844/8844 [==============================] - 0s 26us/sample - loss: 0.0732 - accuracy: 0.9681\n",
      "Epoch 56/128\n",
      "8844/8844 [==============================] - 0s 26us/sample - loss: 0.0764 - accuracy: 0.9689\n",
      "Epoch 57/128\n",
      "8844/8844 [==============================] - 0s 25us/sample - loss: 0.0765 - accuracy: 0.9675\n",
      "Epoch 58/128\n",
      "8844/8844 [==============================] - 0s 28us/sample - loss: 0.0724 - accuracy: 0.9687\n",
      "Epoch 59/128\n",
      "8844/8844 [==============================] - 0s 25us/sample - loss: 0.0712 - accuracy: 0.9714\n",
      "Epoch 60/128\n",
      "8844/8844 [==============================] - 0s 27us/sample - loss: 0.0750 - accuracy: 0.9690\n",
      "Epoch 61/128\n",
      "8844/8844 [==============================] - 0s 29us/sample - loss: 0.0708 - accuracy: 0.9704\n",
      "Epoch 62/128\n",
      "8844/8844 [==============================] - 0s 32us/sample - loss: 0.0720 - accuracy: 0.9701\n",
      "Epoch 63/128\n",
      "8844/8844 [==============================] - 0s 31us/sample - loss: 0.0688 - accuracy: 0.9717\n",
      "Epoch 64/128\n",
      "8844/8844 [==============================] - 0s 31us/sample - loss: 0.0695 - accuracy: 0.9721\n",
      "Epoch 65/128\n",
      "8844/8844 [==============================] - 0s 35us/sample - loss: 0.0678 - accuracy: 0.9713\n",
      "Epoch 66/128\n",
      "8844/8844 [==============================] - 0s 31us/sample - loss: 0.0714 - accuracy: 0.9706\n",
      "Epoch 67/128\n",
      "8844/8844 [==============================] - 0s 28us/sample - loss: 0.0680 - accuracy: 0.9713\n",
      "Epoch 68/128\n",
      "8844/8844 [==============================] - 0s 24us/sample - loss: 0.0704 - accuracy: 0.9696\n",
      "Epoch 69/128\n",
      "8844/8844 [==============================] - 0s 25us/sample - loss: 0.0665 - accuracy: 0.9726\n",
      "Epoch 70/128\n",
      "8844/8844 [==============================] - 0s 25us/sample - loss: 0.0654 - accuracy: 0.9730\n",
      "Epoch 71/128\n",
      "8844/8844 [==============================] - 0s 25us/sample - loss: 0.0680 - accuracy: 0.9714\n",
      "Epoch 72/128\n",
      "8844/8844 [==============================] - 0s 25us/sample - loss: 0.0701 - accuracy: 0.9698\n",
      "Epoch 73/128\n",
      "8844/8844 [==============================] - 0s 23us/sample - loss: 0.0713 - accuracy: 0.9703\n",
      "Epoch 74/128\n",
      "8844/8844 [==============================] - 0s 24us/sample - loss: 0.0641 - accuracy: 0.9738\n",
      "Epoch 75/128\n",
      "8844/8844 [==============================] - 0s 25us/sample - loss: 0.0643 - accuracy: 0.9713\n",
      "Epoch 76/128\n",
      "8844/8844 [==============================] - 0s 24us/sample - loss: 0.0621 - accuracy: 0.9761\n",
      "Epoch 77/128\n",
      "8844/8844 [==============================] - 0s 23us/sample - loss: 0.0645 - accuracy: 0.9725\n",
      "Epoch 78/128\n",
      "8844/8844 [==============================] - 0s 25us/sample - loss: 0.0648 - accuracy: 0.9717\n",
      "Epoch 79/128\n",
      "8844/8844 [==============================] - 0s 25us/sample - loss: 0.0639 - accuracy: 0.9717\n",
      "Epoch 80/128\n",
      "8844/8844 [==============================] - 0s 23us/sample - loss: 0.0587 - accuracy: 0.9759\n",
      "Epoch 81/128\n",
      "8844/8844 [==============================] - 0s 25us/sample - loss: 0.0592 - accuracy: 0.9760\n",
      "Epoch 82/128\n",
      "8844/8844 [==============================] - 0s 24us/sample - loss: 0.0603 - accuracy: 0.9748\n",
      "Epoch 83/128\n",
      "8844/8844 [==============================] - 0s 24us/sample - loss: 0.0614 - accuracy: 0.9726\n",
      "Epoch 84/128\n",
      "8844/8844 [==============================] - 0s 25us/sample - loss: 0.0590 - accuracy: 0.9754\n",
      "Epoch 85/128\n",
      "8640/8844 [============================>.] - ETA: 0s - loss: 0.0612 - accuracy: 0.9735Restoring model weights from the end of the best epoch.\n",
      "8844/8844 [==============================] - 0s 25us/sample - loss: 0.0617 - accuracy: 0.9732\n",
      "Epoch 00085: early stopping\n",
      "Accuracy score of the Logistic Regression classifier with default hyperparameter values 97.91%\n",
      "\n",
      "\n",
      "----Classification report of the Logistic Regression classifier with default hyperparameter value----\n",
      "\n",
      "\n",
      "                   precision    recall  f1-score   support\n",
      "\n",
      "Phishing Websites       0.98      0.98      0.98      3924\n",
      "  Normal Websites       0.98      0.98      0.98      4920\n",
      "\n",
      "         accuracy                           0.98      8844\n",
      "        macro avg       0.98      0.98      0.98      8844\n",
      "     weighted avg       0.98      0.98      0.98      8844\n",
      "\n"
     ]
    }
   ],
   "source": [
    "train_network(model, \"neural-network\")"
   ]
  },
  {
   "cell_type": "markdown",
   "metadata": {},
   "source": [
    "We already have a training accuracy of 97%. Can we push this even further? \n",
    "\n",
    "**TDLHBA** is technique introduced [in this paper](https://dl.acm.org/citation.cfm?id=3227655). We will use hyperparameter values as presented in the paper to see the performance enhancement of the model."
   ]
  },
  {
   "cell_type": "code",
   "execution_count": 13,
   "metadata": {},
   "outputs": [],
   "source": [
    "# Building the model with the same topology as specified in the above-mentioned paper\n",
    "\n",
    "model_TDLHBA = Sequential()\n",
    "\n",
    "model_TDLHBA.add(Dense(40, activation=\"relu\",\n",
    "          kernel_initializer=\"uniform\", input_dim=X_train.shape[1]))\n",
    "model_TDLHBA.add(Dense(30, activation=\"relu\",\n",
    "          kernel_initializer=\"uniform\"))\n",
    "model_TDLHBA.add(Dense(1, activation=\"sigmoid\"))\n",
    "\n",
    "adam = Adam(lr=0.0017470)\n",
    "model_TDLHBA.compile(loss=\"binary_crossentropy\", optimizer=adam, metrics=[\"accuracy\"])"
   ]
  },
  {
   "cell_type": "code",
   "execution_count": 14,
   "metadata": {},
   "outputs": [
    {
     "data": {
      "text/html": [
       "\n",
       "                Logging results to <a href=\"https://wandb.com\" target=\"_blank\">Weights & Biases</a> <a href=\"https://docs.wandb.com/integrations/jupyter.html\" target=\"_blank\">(Documentation)</a>.<br/>\n",
       "                Project page: <a href=\"https://app.wandb.ai/datagodzilla/phishing-websites-detection\" target=\"_blank\">https://app.wandb.ai/datagodzilla/phishing-websites-detection</a><br/>\n",
       "                Run page: <a href=\"https://app.wandb.ai/datagodzilla/phishing-websites-detection/runs/rvoco64x\" target=\"_blank\">https://app.wandb.ai/datagodzilla/phishing-websites-detection/runs/rvoco64x</a><br/>\n",
       "            "
      ],
      "text/plain": [
       "<IPython.core.display.HTML object>"
      ]
     },
     "metadata": {},
     "output_type": "display_data"
    },
    {
     "name": "stderr",
     "output_type": "stream",
     "text": [
      "wandb: Wandb version 0.8.28 is available!  To upgrade, please run:\n",
      "wandb:  $ pip install wandb --upgrade\n"
     ]
    },
    {
     "data": {
      "text/plain": [
       "W&B Run: https://app.wandb.ai/datagodzilla/phishing-websites-detection/runs/rvoco64x"
      ]
     },
     "execution_count": 14,
     "metadata": {},
     "output_type": "execute_result"
    }
   ],
   "source": [
    "wandb.init(project=\"phishing-websites-detection\", name=\"neural-network-tdlhba\")"
   ]
  },
  {
   "cell_type": "code",
   "execution_count": 15,
   "metadata": {},
   "outputs": [
    {
     "name": "stdout",
     "output_type": "stream",
     "text": [
      "Train on 8844 samples\n",
      "Epoch 1/100\n"
     ]
    },
    {
     "name": "stderr",
     "output_type": "stream",
     "text": [
      "wandb: Wandb version 0.8.28 is available!  To upgrade, please run:\n",
      "wandb:  $ pip install wandb --upgrade\n"
     ]
    },
    {
     "name": "stdout",
     "output_type": "stream",
     "text": [
      "WARNING:tensorflow:Method (on_train_batch_end) is slow compared to the batch update (1.455008). Check your callbacks.\n",
      "  10/8844 [..............................] - ETA: 33:05 - loss: 0.6917 - accuracy: 0.7000WARNING:tensorflow:Method (on_train_batch_end) is slow compared to the batch update (0.727504). Check your callbacks.\n",
      "8844/8844 [==============================] - 5s 544us/sample - loss: 0.2218 - accuracy: 0.9088\n",
      "Epoch 2/100\n",
      "8844/8844 [==============================] - 2s 261us/sample - loss: 0.1705 - accuracy: 0.9305\n",
      "Epoch 3/100\n",
      "8844/8844 [==============================] - 2s 269us/sample - loss: 0.1526 - accuracy: 0.9365\n",
      "Epoch 4/100\n",
      "8844/8844 [==============================] - 3s 306us/sample - loss: 0.1358 - accuracy: 0.9430\n",
      "Epoch 5/100\n",
      "8844/8844 [==============================] - 2s 208us/sample - loss: 0.1243 - accuracy: 0.9490\n",
      "Epoch 6/100\n",
      "8844/8844 [==============================] - 2s 199us/sample - loss: 0.1158 - accuracy: 0.9498\n",
      "Epoch 7/100\n",
      "8844/8844 [==============================] - 2s 273us/sample - loss: 0.1088 - accuracy: 0.9535\n",
      "Epoch 8/100\n",
      "8844/8844 [==============================] - 3s 306us/sample - loss: 0.1010 - accuracy: 0.9569\n",
      "Epoch 9/100\n",
      "8844/8844 [==============================] - 3s 286us/sample - loss: 0.0964 - accuracy: 0.9595\n",
      "Epoch 10/100\n",
      "8844/8844 [==============================] - 2s 204us/sample - loss: 0.0915 - accuracy: 0.9609\n",
      "Epoch 11/100\n",
      "8844/8844 [==============================] - 2s 203us/sample - loss: 0.0873 - accuracy: 0.9643\n",
      "Epoch 12/100\n",
      "8844/8844 [==============================] - 2s 207us/sample - loss: 0.0853 - accuracy: 0.9663\n",
      "Epoch 13/100\n",
      "8844/8844 [==============================] - 2s 188us/sample - loss: 0.0813 - accuracy: 0.9673\n",
      "Epoch 14/100\n",
      "8844/8844 [==============================] - 2s 227us/sample - loss: 0.0798 - accuracy: 0.9671\n",
      "Epoch 15/100\n",
      "8844/8844 [==============================] - 2s 183us/sample - loss: 0.0761 - accuracy: 0.9666\n",
      "Epoch 16/100\n",
      "8844/8844 [==============================] - 1s 160us/sample - loss: 0.0750 - accuracy: 0.9688\n",
      "Epoch 17/100\n",
      "8844/8844 [==============================] - 4s 466us/sample - loss: 0.0729 - accuracy: 0.9703\n",
      "Epoch 18/100\n",
      "8844/8844 [==============================] - 3s 315us/sample - loss: 0.0684 - accuracy: 0.9696\n",
      "Epoch 19/100\n",
      "8844/8844 [==============================] - 4s 396us/sample - loss: 0.0701 - accuracy: 0.9691\n",
      "Epoch 20/100\n",
      "8844/8844 [==============================] - 3s 380us/sample - loss: 0.0672 - accuracy: 0.9707\n",
      "Epoch 21/100\n",
      "8844/8844 [==============================] - 3s 352us/sample - loss: 0.0661 - accuracy: 0.9700\n",
      "Epoch 22/100\n",
      "8844/8844 [==============================] - 3s 393us/sample - loss: 0.0666 - accuracy: 0.9713\n",
      "Epoch 23/100\n",
      "8844/8844 [==============================] - 3s 372us/sample - loss: 0.0637 - accuracy: 0.9726\n",
      "Epoch 24/100\n",
      "8844/8844 [==============================] - 4s 426us/sample - loss: 0.0621 - accuracy: 0.9730\n",
      "Epoch 25/100\n",
      "8844/8844 [==============================] - 4s 406us/sample - loss: 0.0607 - accuracy: 0.9750\n",
      "Epoch 26/100\n",
      "8844/8844 [==============================] - 3s 388us/sample - loss: 0.0597 - accuracy: 0.9759\n",
      "Epoch 27/100\n",
      "8844/8844 [==============================] - 3s 386us/sample - loss: 0.0618 - accuracy: 0.9734\n",
      "Epoch 28/100\n",
      "8844/8844 [==============================] - 3s 377us/sample - loss: 0.0587 - accuracy: 0.9748\n",
      "Epoch 29/100\n",
      "8844/8844 [==============================] - 4s 412us/sample - loss: 0.0586 - accuracy: 0.9748\n",
      "Epoch 30/100\n",
      "8844/8844 [==============================] - 4s 447us/sample - loss: 0.0569 - accuracy: 0.9750\n",
      "Epoch 31/100\n",
      "8844/8844 [==============================] - 4s 446us/sample - loss: 0.0549 - accuracy: 0.9766\n",
      "Epoch 32/100\n",
      "8844/8844 [==============================] - 4s 434us/sample - loss: 0.0574 - accuracy: 0.9754\n",
      "Epoch 33/100\n",
      "8844/8844 [==============================] - 4s 399us/sample - loss: 0.0567 - accuracy: 0.9758\n",
      "Epoch 34/100\n",
      "8844/8844 [==============================] - 3s 364us/sample - loss: 0.0522 - accuracy: 0.9769\n",
      "Epoch 35/100\n",
      "8844/8844 [==============================] - 4s 413us/sample - loss: 0.0548 - accuracy: 0.9766\n",
      "Epoch 36/100\n",
      "8844/8844 [==============================] - 4s 421us/sample - loss: 0.0508 - accuracy: 0.9768\n",
      "Epoch 37/100\n",
      "8844/8844 [==============================] - 4s 460us/sample - loss: 0.0548 - accuracy: 0.9752\n",
      "Epoch 38/100\n",
      "8844/8844 [==============================] - 4s 435us/sample - loss: 0.0542 - accuracy: 0.9778\n",
      "Epoch 39/100\n",
      "8844/8844 [==============================] - 4s 462us/sample - loss: 0.0504 - accuracy: 0.9792\n",
      "Epoch 40/100\n",
      "8844/8844 [==============================] - 4s 468us/sample - loss: 0.0505 - accuracy: 0.9786\n",
      "Epoch 41/100\n",
      "8844/8844 [==============================] - 4s 414us/sample - loss: 0.0509 - accuracy: 0.9785\n",
      "Epoch 42/100\n",
      "8844/8844 [==============================] - 4s 445us/sample - loss: 0.0494 - accuracy: 0.9790\n",
      "Epoch 43/100\n",
      "8844/8844 [==============================] - 4s 440us/sample - loss: 0.0477 - accuracy: 0.9791\n",
      "Epoch 44/100\n",
      "8844/8844 [==============================] - 4s 441us/sample - loss: 0.0500 - accuracy: 0.9780\n",
      "Epoch 45/100\n",
      "8844/8844 [==============================] - ETA: 0s - loss: 0.0500 - accuracy: 0.97 - 4s 444us/sample - loss: 0.0499 - accuracy: 0.9795\n",
      "Epoch 46/100\n",
      "8844/8844 [==============================] - 4s 426us/sample - loss: 0.0449 - accuracy: 0.9800\n",
      "Epoch 47/100\n",
      "8844/8844 [==============================] - 4s 428us/sample - loss: 0.0470 - accuracy: 0.9800\n",
      "Epoch 48/100\n",
      "8844/8844 [==============================] - 4s 434us/sample - loss: 0.0503 - accuracy: 0.9787\n",
      "Epoch 49/100\n",
      "8844/8844 [==============================] - 4s 406us/sample - loss: 0.0428 - accuracy: 0.9818\n",
      "Epoch 50/100\n",
      "8844/8844 [==============================] - 4s 444us/sample - loss: 0.0471 - accuracy: 0.9786\n",
      "Epoch 51/100\n",
      "8844/8844 [==============================] - 4s 411us/sample - loss: 0.0446 - accuracy: 0.9816\n",
      "Epoch 52/100\n",
      "8844/8844 [==============================] - 4s 438us/sample - loss: 0.0442 - accuracy: 0.9790\n",
      "Epoch 53/100\n",
      "8844/8844 [==============================] - 3s 369us/sample - loss: 0.0460 - accuracy: 0.9809\n",
      "Epoch 54/100\n",
      "8810/8844 [============================>.] - ETA: 0s - loss: 0.0441 - accuracy: 0.9812Restoring model weights from the end of the best epoch.\n",
      "8844/8844 [==============================] - 3s 356us/sample - loss: 0.0440 - accuracy: 0.9812\n",
      "Epoch 00054: early stopping\n",
      "Accuracy score of the Logistic Regression classifier with default hyperparameter values 98.26%\n",
      "\n",
      "\n",
      "----Classification report of the Logistic Regression classifier with default hyperparameter value----\n",
      "\n",
      "\n",
      "                   precision    recall  f1-score   support\n",
      "\n",
      "Phishing Websites       0.98      0.98      0.98      3924\n",
      "  Normal Websites       0.98      0.99      0.98      4920\n",
      "\n",
      "         accuracy                           0.98      8844\n",
      "        macro avg       0.98      0.98      0.98      8844\n",
      "     weighted avg       0.98      0.98      0.98      8844\n",
      "\n"
     ]
    }
   ],
   "source": [
    "start = time.time()\n",
    "history_TDLHBA = model_TDLHBA.fit(X_train, y_train, batch_size=10, epochs=100, \n",
    "                                  verbose=1, callbacks=[es_cb, WandbCallback()])\n",
    "\n",
    "end = time.time() - start\n",
    "prediction = model_TDLHBA.predict_classes(X_test)\n",
    "wandb.log({\"accuracy\":accuracy_score(y_test, prediction)*100.0,\\\n",
    "           \"precision\": precision_recall_fscore_support(y_test, prediction, average=\"macro\")[0],\n",
    "           \"recall\": precision_recall_fscore_support(y_test, prediction, average=\"macro\")[1],\n",
    "           \"training_time\":end})\n",
    "print(\"Accuracy score of the Logistic Regression classifier with default hyperparameter values {0:.2f}%\"\\\n",
    "                  .format(accuracy_score(y_test, prediction)*100.))\n",
    "print(\"\\n\")\n",
    "print(\"----Classification report of the Logistic Regression classifier with default hyperparameter value----\")\n",
    "print(\"\\n\")\n",
    "print(classification_report(y_test, prediction, target_names=[\"Phishing Websites\", \"Normal Websites\"]))"
   ]
  },
  {
   "cell_type": "markdown",
   "metadata": {},
   "source": [
    "The performance is by far the best one. "
   ]
  }
 ],
 "metadata": {
  "kernelspec": {
   "display_name": "Python 3",
   "language": "python",
   "name": "python3"
  },
  "language_info": {
   "codemirror_mode": {
    "name": "ipython",
    "version": 3
   },
   "file_extension": ".py",
   "mimetype": "text/x-python",
   "name": "python",
   "nbconvert_exporter": "python",
   "pygments_lexer": "ipython3",
   "version": "3.6.3"
  }
 },
 "nbformat": 4,
 "nbformat_minor": 4
}
